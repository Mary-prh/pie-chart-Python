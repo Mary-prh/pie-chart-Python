{
 "cells": [
  {
   "cell_type": "code",
   "execution_count": 1,
   "id": "1d524e70",
   "metadata": {},
   "outputs": [],
   "source": [
    "# import libraries\n",
    "import matplotlib.pyplot as plt\n",
    "import numpy as np"
   ]
  },
  {
   "cell_type": "code",
   "execution_count": 3,
   "id": "bb6dfedc",
   "metadata": {},
   "outputs": [
    {
     "data": {
      "text/plain": [
       "array([1., 1., 1., 1., 1., 1., 1., 1., 1., 1., 1., 1., 1., 1., 1., 1., 1.,\n",
       "       1., 1., 1., 1., 1., 1., 1., 1., 1., 1., 1., 1., 1., 2., 2., 2., 2.,\n",
       "       2., 2., 2., 2., 2., 2., 2., 2., 2., 2., 2., 2., 2., 2., 2., 2., 2.,\n",
       "       2., 2., 2., 2., 2., 2., 2., 2., 2., 3., 3., 3., 3., 3., 3., 3., 3.,\n",
       "       3., 3., 3., 3., 3., 3., 3., 3., 3., 3., 4., 4., 4., 4., 4., 4., 4.,\n",
       "       4., 4., 4., 4., 4., 5., 5., 5., 5., 5., 5., 5., 5., 5., 5.])"
      ]
     },
     "execution_count": 3,
     "metadata": {},
     "output_type": "execute_result"
    }
   ],
   "source": [
    "# creating some data points\n",
    "nbins = 5\n",
    "totalN = 100\n",
    "data = np.ceil(np.logspace(np.log10(1/2),np.log10(nbins-.01),totalN))\n",
    "# logspace:numbers spaced evenly on a log scale\n",
    "# ceil:rounding up the data\n",
    "data"
   ]
  },
  {
   "cell_type": "code",
   "execution_count": 4,
   "id": "d680d216",
   "metadata": {},
   "outputs": [
    {
     "data": {
      "text/plain": [
       "array([1., 2., 3., 4., 5.])"
      ]
     },
     "execution_count": 4,
     "metadata": {},
     "output_type": "execute_result"
    }
   ],
   "source": [
    "#Find the unique elements of data\n",
    "uniques = np.unique(data)\n",
    "uniques"
   ]
  },
  {
   "cell_type": "code",
   "execution_count": 6,
   "id": "f795f564",
   "metadata": {},
   "outputs": [
    {
     "data": {
      "text/plain": [
       "array([0., 0., 0., 0., 0.])"
      ]
     },
     "execution_count": 6,
     "metadata": {},
     "output_type": "execute_result"
    }
   ],
   "source": [
    "data4pie = np.zeros(len(uniques))\n",
    "data4pie"
   ]
  },
  {
   "cell_type": "code",
   "execution_count": 13,
   "id": "7bfa78ad",
   "metadata": {},
   "outputs": [],
   "source": [
    "for i in range(len(uniques)):\n",
    "    data4pie[i] = np.sum(data == uniques[i])"
   ]
  },
  {
   "cell_type": "code",
   "execution_count": 15,
   "id": "cc777825",
   "metadata": {},
   "outputs": [
    {
     "data": {
      "text/plain": [
       "([<matplotlib.patches.Wedge at 0x1bdb9a9ab20>,\n",
       "  <matplotlib.patches.Wedge at 0x1bdb9a9afa0>,\n",
       "  <matplotlib.patches.Wedge at 0x1bdb9aa64c0>,\n",
       "  <matplotlib.patches.Wedge at 0x1bdb9aa6940>,\n",
       "  <matplotlib.patches.Wedge at 0x1bdb9aa6dc0>],\n",
       " [Text(0.6465637441936395, 0.8899187180267095, 'Feature1'),\n",
       "  Text(-1.0461622061152445, 0.33991857627391475, 'Feature2'),\n",
       "  Text(-0.4049368317599783, -1.0227542042368691, 'Feature3'),\n",
       "  Text(0.5894096475210254, -0.9287606082350504, 'Feature4'),\n",
       "  Text(1.0461622299843472, -0.3399185028123333, 'Feature5')])"
      ]
     },
     "execution_count": 15,
     "metadata": {},
     "output_type": "execute_result"
    },
    {
     "data": {
      "image/png": "[encoded data removed]",
      "text/plain": [
       "<Figure size 432x288 with 1 Axes>"
      ]
     },
     "metadata": {},
     "output_type": "display_data"
    }
   ],
   "source": [
    "plt.pie(data4pie,labels=['Feature1','Feature2','Feature3','Feature4','Feature5'])"
   ]
  },
  {
   "cell_type": "code",
   "execution_count": 18,
   "id": "c0b84d27",
   "metadata": {},
   "outputs": [
    {
     "data": {
      "text/plain": [
       "([<matplotlib.patches.Wedge at 0x1bdb9c9f400>,\n",
       "  <matplotlib.patches.Wedge at 0x1bdb9c9f8e0>,\n",
       "  <matplotlib.patches.Wedge at 0x1bdb9c9fd60>,\n",
       "  <matplotlib.patches.Wedge at 0x1bdb9cac220>,\n",
       "  <matplotlib.patches.Wedge at 0x1bdb9cac6a0>,\n",
       "  <matplotlib.patches.Wedge at 0x1bdb9cacb20>],\n",
       " [Text(1.0944461181522842, 0.11039789156227788, 'Feature1'),\n",
       "  Text(0.7555172415287299, 0.7994959022739385, 'Feature2'),\n",
       "  Text(-0.9572021097367025, 0.5420001117302524, 'Feature3'),\n",
       "  Text(-0.051817174994435014, -1.098778858722535, 'Feature4'),\n",
       "  Text(0.9769500422924842, -0.5055379460186087, 'Feature5'),\n",
       "  Text(1.0957469607473551, -0.09663642177219893, 'Feature6')])"
      ]
     },
     "execution_count": 18,
     "metadata": {},
     "output_type": "execute_result"
    },
    {
     "data": {
      "image/png": "[encoded data removed]",
      "text/plain": [
       "<Figure size 432x288 with 1 Axes>"
      ]
     },
     "metadata": {},
     "output_type": "display_data"
    }
   ],
   "source": [
    "## for continuous data\n",
    "\n",
    "# generate log-normal distribution\n",
    "data = np.exp( np.random.randn(1000)/10 )\n",
    "\n",
    "\n",
    "# generate bins using histogram\n",
    "histout = np.histogram(data,bins=6)\n",
    "\n",
    "# and show that as a pie chart\n",
    "plt.pie(histout[0],labels=['Feature1','Feature2','Feature3','Feature4','Feature5','Feature6'])"
   ]
  },
  {
   "cell_type": "code",
   "execution_count": null,
   "id": "03bd566c",
   "metadata": {},
   "outputs": [],
   "source": []
  }
 ],
 "metadata": {
  "kernelspec": {
   "display_name": "Python 3 (ipykernel)",
   "language": "python",
   "name": "python3"
  },
  "language_info": {
   "codemirror_mode": {
    "name": "ipython",
    "version": 3
   },
   "file_extension": ".py",
   "mimetype": "text/x-python",
   "name": "python",
   "nbconvert_exporter": "python",
   "pygments_lexer": "ipython3",
   "version": "3.9.1"
  }
 },
 "nbformat": 4,
 "nbformat_minor": 5
}
